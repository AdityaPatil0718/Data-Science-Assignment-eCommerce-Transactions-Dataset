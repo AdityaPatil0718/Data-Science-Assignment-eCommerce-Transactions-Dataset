{
  "nbformat": 4,
  "nbformat_minor": 0,
  "metadata": {
    "colab": {
      "provenance": []
    },
    "kernelspec": {
      "name": "python3",
      "display_name": "Python 3"
    },
    "language_info": {
      "name": "python"
    }
  },
  "cells": [
    {
      "cell_type": "code",
      "source": [
        "import pandas as pd\n",
        "from sklearn.metrics.pairwise import cosine_similarity\n",
        "from sklearn.preprocessing import StandardScaler\n",
        "import numpy as np"
      ],
      "metadata": {
        "id": "He0sNFubJ_sR"
      },
      "execution_count": null,
      "outputs": []
    },
    {
      "cell_type": "code",
      "source": [
        "#Load datasets\n",
        "customers_df = pd.read_csv('/content/Customers.csv')\n",
        "products_df = pd.read_csv('/content/Products.csv')\n",
        "transactions_df = pd.read_csv('/content/Transactions.csv')"
      ],
      "metadata": {
        "id": "2Ak-4QC_KCJ_"
      },
      "execution_count": null,
      "outputs": []
    },
    {
      "cell_type": "code",
      "source": [
        "#Merge datasets\n",
        "merged_df = (\n",
        "    transactions_df\n",
        "    .merge(customers_df, on=\"CustomerID\", how=\"inner\")\n",
        "    .merge(products_df, on=\"ProductID\", how=\"inner\")\n",
        ")"
      ],
      "metadata": {
        "id": "ZFbJoPevKGxo"
      },
      "execution_count": null,
      "outputs": []
    },
    {
      "cell_type": "code",
      "source": [
        "#Feature Engineering: Build Customer Profiles\n",
        "customer_profiles = merged_df.groupby(\"CustomerID\").agg(\n",
        "    total_spent=(\"TotalValue\", \"sum\"),\n",
        "    total_transactions=(\"TransactionID\", \"nunique\"),\n",
        "    avg_transaction_value=(\"TotalValue\", \"mean\"),\n",
        "    recency=(\"TransactionDate\", lambda x: (pd.Timestamp.now() - pd.to_datetime(x).max()).days),\n",
        "    frequency=(\"TransactionDate\", \"count\"),\n",
        "    categories_bought=(\"Category\", lambda x: ','.join(x.unique())),\n",
        "    region=(\"Region\", \"first\"),\n",
        "    products_bought=(\"ProductID\", lambda x: ','.join(x.unique()))\n",
        ").reset_index()\n"
      ],
      "metadata": {
        "id": "YkAl4L7IKHuB"
      },
      "execution_count": null,
      "outputs": []
    },
    {
      "cell_type": "code",
      "source": [
        "#One-hot encode categories, products, and region for similarity calculation\n",
        "categories_encoded = pd.get_dummies(customer_profiles['categories_bought'].str.split(',').explode()).groupby(level=0).sum()\n",
        "products_encoded = pd.get_dummies(customer_profiles['products_bought'].str.split(',').explode()).groupby(level=0).sum()\n",
        "region_encoded = pd.get_dummies(customer_profiles['region'])\n",
        "\n",
        "# Combine features into a single dataframe\n",
        "customer_features = pd.concat([\n",
        "    customer_profiles[['total_spent', 'total_transactions', 'avg_transaction_value', 'recency', 'frequency']],\n",
        "    categories_encoded,\n",
        "    products_encoded,\n",
        "    region_encoded\n",
        "], axis=1)"
      ],
      "metadata": {
        "id": "X1Rx5PDWKKQf"
      },
      "execution_count": null,
      "outputs": []
    },
    {
      "cell_type": "code",
      "source": [
        "#Normalize the features for similarity computation\n",
        "scaler = StandardScaler()\n",
        "normalized_features = scaler.fit_transform(customer_features)\n",
        "\n",
        "# Compute similarity matrix\n",
        "similarity_matrix = cosine_similarity(normalized_features)"
      ],
      "metadata": {
        "id": "w6_wWfjyKNBw"
      },
      "execution_count": null,
      "outputs": []
    },
    {
      "cell_type": "code",
      "source": [
        "#Generate Lookalike recommendations for the first 20 customers\n",
        "first_20_customers = customer_profiles[customer_profiles['CustomerID'].isin([f'C{str(i).zfill(4)}' for i in range(1, 21)])]\n",
        "\n",
        "lookalike_map = []\n",
        "\n",
        "for customer_id in first_20_customers['CustomerID']:\n",
        "    #Get the index of the current customer in the similarity matrix\n",
        "    customer_idx = customer_profiles.index[customer_profiles['CustomerID'] == customer_id][0]\n",
        "    similarity_scores = similarity_matrix[customer_idx]\n",
        "\n",
        "    #Get top 3 similar customers (excluding the input customer itself)\n",
        "    similar_customers_idx = np.argsort(similarity_scores)[::-1][1:4]\n",
        "    similar_customers = customer_profiles.iloc[similar_customers_idx]\n",
        "    similar_customers['similarity_score'] = similarity_scores[similar_customers_idx]\n",
        "\n",
        "    #Add to lookalike map\n",
        "    for _, row in similar_customers.iterrows():\n",
        "        lookalike_map.append({\n",
        "            'cust_id': customer_id,\n",
        "            'recommended_cust_id': row['CustomerID'],\n",
        "            'score': row['similarity_score']\n",
        "        })\n"
      ],
      "metadata": {
        "colab": {
          "base_uri": "https://localhost:8080/"
        },
        "id": "hcshWl7oKP5I",
        "outputId": "72f3c89a-a010-4956-9e01-e30789299b80"
      },
      "execution_count": null,
      "outputs": [
        {
          "output_type": "stream",
          "name": "stderr",
          "text": [
            "<ipython-input-15-e495179676b2>:14: SettingWithCopyWarning: \n",
            "A value is trying to be set on a copy of a slice from a DataFrame.\n",
            "Try using .loc[row_indexer,col_indexer] = value instead\n",
            "\n",
            "See the caveats in the documentation: https://pandas.pydata.org/pandas-docs/stable/user_guide/indexing.html#returning-a-view-versus-a-copy\n",
            "  similar_customers['similarity_score'] = similarity_scores[similar_customers_idx]\n",
            "<ipython-input-15-e495179676b2>:14: SettingWithCopyWarning: \n",
            "A value is trying to be set on a copy of a slice from a DataFrame.\n",
            "Try using .loc[row_indexer,col_indexer] = value instead\n",
            "\n",
            "See the caveats in the documentation: https://pandas.pydata.org/pandas-docs/stable/user_guide/indexing.html#returning-a-view-versus-a-copy\n",
            "  similar_customers['similarity_score'] = similarity_scores[similar_customers_idx]\n",
            "<ipython-input-15-e495179676b2>:14: SettingWithCopyWarning: \n",
            "A value is trying to be set on a copy of a slice from a DataFrame.\n",
            "Try using .loc[row_indexer,col_indexer] = value instead\n",
            "\n",
            "See the caveats in the documentation: https://pandas.pydata.org/pandas-docs/stable/user_guide/indexing.html#returning-a-view-versus-a-copy\n",
            "  similar_customers['similarity_score'] = similarity_scores[similar_customers_idx]\n",
            "<ipython-input-15-e495179676b2>:14: SettingWithCopyWarning: \n",
            "A value is trying to be set on a copy of a slice from a DataFrame.\n",
            "Try using .loc[row_indexer,col_indexer] = value instead\n",
            "\n",
            "See the caveats in the documentation: https://pandas.pydata.org/pandas-docs/stable/user_guide/indexing.html#returning-a-view-versus-a-copy\n",
            "  similar_customers['similarity_score'] = similarity_scores[similar_customers_idx]\n",
            "<ipython-input-15-e495179676b2>:14: SettingWithCopyWarning: \n",
            "A value is trying to be set on a copy of a slice from a DataFrame.\n",
            "Try using .loc[row_indexer,col_indexer] = value instead\n",
            "\n",
            "See the caveats in the documentation: https://pandas.pydata.org/pandas-docs/stable/user_guide/indexing.html#returning-a-view-versus-a-copy\n",
            "  similar_customers['similarity_score'] = similarity_scores[similar_customers_idx]\n",
            "<ipython-input-15-e495179676b2>:14: SettingWithCopyWarning: \n",
            "A value is trying to be set on a copy of a slice from a DataFrame.\n",
            "Try using .loc[row_indexer,col_indexer] = value instead\n",
            "\n",
            "See the caveats in the documentation: https://pandas.pydata.org/pandas-docs/stable/user_guide/indexing.html#returning-a-view-versus-a-copy\n",
            "  similar_customers['similarity_score'] = similarity_scores[similar_customers_idx]\n",
            "<ipython-input-15-e495179676b2>:14: SettingWithCopyWarning: \n",
            "A value is trying to be set on a copy of a slice from a DataFrame.\n",
            "Try using .loc[row_indexer,col_indexer] = value instead\n",
            "\n",
            "See the caveats in the documentation: https://pandas.pydata.org/pandas-docs/stable/user_guide/indexing.html#returning-a-view-versus-a-copy\n",
            "  similar_customers['similarity_score'] = similarity_scores[similar_customers_idx]\n",
            "<ipython-input-15-e495179676b2>:14: SettingWithCopyWarning: \n",
            "A value is trying to be set on a copy of a slice from a DataFrame.\n",
            "Try using .loc[row_indexer,col_indexer] = value instead\n",
            "\n",
            "See the caveats in the documentation: https://pandas.pydata.org/pandas-docs/stable/user_guide/indexing.html#returning-a-view-versus-a-copy\n",
            "  similar_customers['similarity_score'] = similarity_scores[similar_customers_idx]\n",
            "<ipython-input-15-e495179676b2>:14: SettingWithCopyWarning: \n",
            "A value is trying to be set on a copy of a slice from a DataFrame.\n",
            "Try using .loc[row_indexer,col_indexer] = value instead\n",
            "\n",
            "See the caveats in the documentation: https://pandas.pydata.org/pandas-docs/stable/user_guide/indexing.html#returning-a-view-versus-a-copy\n",
            "  similar_customers['similarity_score'] = similarity_scores[similar_customers_idx]\n",
            "<ipython-input-15-e495179676b2>:14: SettingWithCopyWarning: \n",
            "A value is trying to be set on a copy of a slice from a DataFrame.\n",
            "Try using .loc[row_indexer,col_indexer] = value instead\n",
            "\n",
            "See the caveats in the documentation: https://pandas.pydata.org/pandas-docs/stable/user_guide/indexing.html#returning-a-view-versus-a-copy\n",
            "  similar_customers['similarity_score'] = similarity_scores[similar_customers_idx]\n",
            "<ipython-input-15-e495179676b2>:14: SettingWithCopyWarning: \n",
            "A value is trying to be set on a copy of a slice from a DataFrame.\n",
            "Try using .loc[row_indexer,col_indexer] = value instead\n",
            "\n",
            "See the caveats in the documentation: https://pandas.pydata.org/pandas-docs/stable/user_guide/indexing.html#returning-a-view-versus-a-copy\n",
            "  similar_customers['similarity_score'] = similarity_scores[similar_customers_idx]\n",
            "<ipython-input-15-e495179676b2>:14: SettingWithCopyWarning: \n",
            "A value is trying to be set on a copy of a slice from a DataFrame.\n",
            "Try using .loc[row_indexer,col_indexer] = value instead\n",
            "\n",
            "See the caveats in the documentation: https://pandas.pydata.org/pandas-docs/stable/user_guide/indexing.html#returning-a-view-versus-a-copy\n",
            "  similar_customers['similarity_score'] = similarity_scores[similar_customers_idx]\n",
            "<ipython-input-15-e495179676b2>:14: SettingWithCopyWarning: \n",
            "A value is trying to be set on a copy of a slice from a DataFrame.\n",
            "Try using .loc[row_indexer,col_indexer] = value instead\n",
            "\n",
            "See the caveats in the documentation: https://pandas.pydata.org/pandas-docs/stable/user_guide/indexing.html#returning-a-view-versus-a-copy\n",
            "  similar_customers['similarity_score'] = similarity_scores[similar_customers_idx]\n",
            "<ipython-input-15-e495179676b2>:14: SettingWithCopyWarning: \n",
            "A value is trying to be set on a copy of a slice from a DataFrame.\n",
            "Try using .loc[row_indexer,col_indexer] = value instead\n",
            "\n",
            "See the caveats in the documentation: https://pandas.pydata.org/pandas-docs/stable/user_guide/indexing.html#returning-a-view-versus-a-copy\n",
            "  similar_customers['similarity_score'] = similarity_scores[similar_customers_idx]\n",
            "<ipython-input-15-e495179676b2>:14: SettingWithCopyWarning: \n",
            "A value is trying to be set on a copy of a slice from a DataFrame.\n",
            "Try using .loc[row_indexer,col_indexer] = value instead\n",
            "\n",
            "See the caveats in the documentation: https://pandas.pydata.org/pandas-docs/stable/user_guide/indexing.html#returning-a-view-versus-a-copy\n",
            "  similar_customers['similarity_score'] = similarity_scores[similar_customers_idx]\n",
            "<ipython-input-15-e495179676b2>:14: SettingWithCopyWarning: \n",
            "A value is trying to be set on a copy of a slice from a DataFrame.\n",
            "Try using .loc[row_indexer,col_indexer] = value instead\n",
            "\n",
            "See the caveats in the documentation: https://pandas.pydata.org/pandas-docs/stable/user_guide/indexing.html#returning-a-view-versus-a-copy\n",
            "  similar_customers['similarity_score'] = similarity_scores[similar_customers_idx]\n",
            "<ipython-input-15-e495179676b2>:14: SettingWithCopyWarning: \n",
            "A value is trying to be set on a copy of a slice from a DataFrame.\n",
            "Try using .loc[row_indexer,col_indexer] = value instead\n",
            "\n",
            "See the caveats in the documentation: https://pandas.pydata.org/pandas-docs/stable/user_guide/indexing.html#returning-a-view-versus-a-copy\n",
            "  similar_customers['similarity_score'] = similarity_scores[similar_customers_idx]\n",
            "<ipython-input-15-e495179676b2>:14: SettingWithCopyWarning: \n",
            "A value is trying to be set on a copy of a slice from a DataFrame.\n",
            "Try using .loc[row_indexer,col_indexer] = value instead\n",
            "\n",
            "See the caveats in the documentation: https://pandas.pydata.org/pandas-docs/stable/user_guide/indexing.html#returning-a-view-versus-a-copy\n",
            "  similar_customers['similarity_score'] = similarity_scores[similar_customers_idx]\n",
            "<ipython-input-15-e495179676b2>:14: SettingWithCopyWarning: \n",
            "A value is trying to be set on a copy of a slice from a DataFrame.\n",
            "Try using .loc[row_indexer,col_indexer] = value instead\n",
            "\n",
            "See the caveats in the documentation: https://pandas.pydata.org/pandas-docs/stable/user_guide/indexing.html#returning-a-view-versus-a-copy\n",
            "  similar_customers['similarity_score'] = similarity_scores[similar_customers_idx]\n",
            "<ipython-input-15-e495179676b2>:14: SettingWithCopyWarning: \n",
            "A value is trying to be set on a copy of a slice from a DataFrame.\n",
            "Try using .loc[row_indexer,col_indexer] = value instead\n",
            "\n",
            "See the caveats in the documentation: https://pandas.pydata.org/pandas-docs/stable/user_guide/indexing.html#returning-a-view-versus-a-copy\n",
            "  similar_customers['similarity_score'] = similarity_scores[similar_customers_idx]\n"
          ]
        }
      ]
    },
    {
      "cell_type": "code",
      "source": [
        "#Convert lookalike map to DataFrame\n",
        "lookalike_df = pd.DataFrame(lookalike_map)\n",
        "print(lookalike_df)\n",
        "\n",
        "#Save to CSV\n",
        "output_path = 'Aditya_Patil_Lookalike.csv'\n",
        "lookalike_df.to_csv(output_path, index=False)\n",
        "\n",
        "print()\n",
        "print(f\"Lookalike recommendations saved to {output_path}\")\n"
      ],
      "metadata": {
        "colab": {
          "base_uri": "https://localhost:8080/"
        },
        "id": "Sx5WDKMjKSSo",
        "outputId": "c933f30b-56ab-4479-a4d3-2b878455279e"
      },
      "execution_count": null,
      "outputs": [
        {
          "output_type": "stream",
          "name": "stdout",
          "text": [
            "   cust_id recommended_cust_id     score\n",
            "0    C0001               C0190  0.311246\n",
            "1    C0001               C0154  0.254891\n",
            "2    C0001               C0104  0.234517\n",
            "3    C0002               C0109  0.360432\n",
            "4    C0002               C0134  0.306205\n",
            "5    C0002               C0071  0.296128\n",
            "6    C0003               C0181  0.394981\n",
            "7    C0003               C0134  0.353398\n",
            "8    C0003               C0144  0.345211\n",
            "9    C0004               C0053  0.337378\n",
            "10   C0004               C0075  0.290650\n",
            "11   C0004               C0065  0.267472\n",
            "12   C0005               C0096  0.368890\n",
            "13   C0005               C0119  0.287815\n",
            "14   C0005               C0149  0.259673\n",
            "15   C0006               C0171  0.457663\n",
            "16   C0006               C0196  0.293947\n",
            "17   C0006               C0058  0.258782\n",
            "18   C0007               C0140  0.534186\n",
            "19   C0007               C0020  0.435014\n",
            "20   C0007               C0031  0.291241\n",
            "21   C0008               C0091  0.288453\n",
            "22   C0008               C0002  0.257701\n",
            "23   C0008               C0164  0.228722\n",
            "24   C0009               C0083  0.483545\n",
            "25   C0009               C0072  0.355101\n",
            "26   C0009               C0062  0.351749\n",
            "27   C0010               C0094  0.438699\n",
            "28   C0010               C0034  0.356076\n",
            "29   C0010               C0132  0.333175\n",
            "30   C0011               C0170  0.390386\n",
            "31   C0011               C0177  0.334509\n",
            "32   C0011               C0120  0.310824\n",
            "33   C0012               C0184  0.332735\n",
            "34   C0012               C0163  0.307023\n",
            "35   C0012               C0173  0.260411\n",
            "36   C0013               C0141  0.336442\n",
            "37   C0013               C0101  0.283404\n",
            "38   C0013               C0099  0.258275\n",
            "39   C0014               C0128  0.699716\n",
            "40   C0014               C0097  0.593872\n",
            "41   C0014               C0110  0.538178\n",
            "42   C0015               C0036  0.535833\n",
            "43   C0015               C0073  0.512703\n",
            "44   C0015               C0050  0.382737\n",
            "45   C0016               C0066  0.425415\n",
            "46   C0016               C0187  0.394648\n",
            "47   C0016               C0192  0.371748\n",
            "48   C0017               C0071  0.381333\n",
            "49   C0017               C0104  0.258002\n",
            "50   C0017               C0037  0.226029\n",
            "51   C0018               C0064  0.303843\n",
            "52   C0018               C0087  0.282519\n",
            "53   C0018               C0115  0.277388\n",
            "54   C0019               C0064  0.413932\n",
            "55   C0019               C0084  0.353508\n",
            "56   C0019               C0052  0.250856\n",
            "57   C0020               C0058  0.574477\n",
            "58   C0020               C0130  0.539737\n",
            "59   C0020               C0110  0.530232\n",
            "\n",
            "Lookalike recommendations saved to Aditya_Patil_Lookalike.csv\n"
          ]
        }
      ]
    },
    {
      "cell_type": "code",
      "source": [],
      "metadata": {
        "id": "VTHFi089I85B"
      },
      "execution_count": null,
      "outputs": []
    }
  ]
}